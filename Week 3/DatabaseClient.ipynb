{
 "cells": [
  {
   "cell_type": "code",
   "execution_count": 1,
   "id": "478065c7-216f-4eb1-9d11-7f18660816b9",
   "metadata": {},
   "outputs": [
    {
     "name": "stdout",
     "output_type": "stream",
     "text": [
      "Requirement already satisfied: mysql-connector-python in c:\\users\\harshini\\appdata\\local\\programs\\python\\python312\\lib\\site-packages (8.4.0)\n"
     ]
    }
   ],
   "source": [
    "!pip install mysql-connector-python"
   ]
  },
  {
   "cell_type": "markdown",
   "id": "4d7e118a-5774-45d6-a4fd-8e01a403e311",
   "metadata": {},
   "source": [
    "-----------------\n",
    "Task 1"
   ]
  },
  {
   "cell_type": "code",
   "execution_count": 4,
   "id": "fea6ca93-d309-45af-bda4-69f08c46cb86",
   "metadata": {},
   "outputs": [],
   "source": [
    "# Import connector module\n",
    "import mysql.connector as connector\n",
    "\n",
    "# Establish connection\n",
    "connection = connector.connect(user = \"admin1\", password = \"inihsrah\", db = \"littlelemondb\")\n",
    "\n",
    "# Instantiate cursor object\n",
    "cursor = connection.cursor()"
   ]
  },
  {
   "cell_type": "markdown",
   "id": "5df0c566-f25d-4496-890a-6d471740de2c",
   "metadata": {},
   "source": [
    "---------------\n",
    "Task 2"
   ]
  },
  {
   "cell_type": "code",
   "execution_count": 8,
   "id": "cf9d395e-d0ef-4250-9fe6-7aa021c2b568",
   "metadata": {},
   "outputs": [
    {
     "name": "stdout",
     "output_type": "stream",
     "text": [
      "[('bookings',), ('customerdetails',), ('menuitems',), ('menus',), ('orderdeliverystatus',), ('orders',), ('ordersview',), ('staffinformation',)]\n"
     ]
    }
   ],
   "source": [
    "# test query to show tables in the database\n",
    "show_tables_query = \"SHOW tables\" \n",
    "\n",
    "# execute the query\n",
    "cursor.execute(show_tables_query)\n",
    "\n",
    "# fetch the results\n",
    "results = cursor.fetchall()\n",
    "print(results)"
   ]
  },
  {
   "cell_type": "markdown",
   "id": "f4be89ba-868b-4caf-94db-ca8cebcf1739",
   "metadata": {},
   "source": [
    "---------------\n",
    "Task 3"
   ]
  },
  {
   "cell_type": "code",
   "execution_count": 12,
   "id": "f49ea112-bd81-46f7-9cf4-eb6d4dbb1653",
   "metadata": {},
   "outputs": [
    {
     "name": "stdout",
     "output_type": "stream",
     "text": [
      "('Name', 'ContactNumber', 'Email', 'BillAmount')\n",
      "('Marcos Romero', 354789612, 'marcos@mail.com', Decimal('86'))\n",
      "('Vanessa McCarthy', 958741235, 'vanessa@mail.com', Decimal('125'))\n",
      "('Jane Murphy', 851203474, 'jane@mail.com', Decimal('97'))\n"
     ]
    }
   ],
   "source": [
    "# Query with table JOIN\n",
    "# in my model, Customers table is linked to Orders table via the Bookings table\n",
    "join_query = \"\"\"\n",
    "SELECT C.Name, C.ContactNumber, C.Email, Orders.TotalCost AS BillAmount\n",
    "FROM CustomerDetails AS C\n",
    "\tINNER JOIN Bookings ON C.CustomerID = Bookings.CustomerID \n",
    "    INNER JOIN Orders ON Bookings.BookingID = Orders.BookingID\n",
    "WHERE TotalCost > 60\n",
    "\"\"\"\n",
    "\n",
    "# execute the query\n",
    "cursor.execute(join_query)\n",
    "\n",
    "# fetch the results\n",
    "results = cursor.fetchall()\n",
    "\n",
    "# print column names\n",
    "print(cursor.column_names)\n",
    "\n",
    "# print results\n",
    "for row in results:\n",
    "    print(row)"
   ]
  },
  {
   "cell_type": "code",
   "execution_count": null,
   "id": "350078d0-fa0e-4470-ade6-2e6b73904c28",
   "metadata": {},
   "outputs": [],
   "source": []
  }
 ],
 "metadata": {
  "kernelspec": {
   "display_name": "Python 3 (ipykernel)",
   "language": "python",
   "name": "python3"
  },
  "language_info": {
   "codemirror_mode": {
    "name": "ipython",
    "version": 3
   },
   "file_extension": ".py",
   "mimetype": "text/x-python",
   "name": "python",
   "nbconvert_exporter": "python",
   "pygments_lexer": "ipython3",
   "version": "3.12.3"
  }
 },
 "nbformat": 4,
 "nbformat_minor": 5
}
